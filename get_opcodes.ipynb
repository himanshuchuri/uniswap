{
 "cells": [
  {
   "cell_type": "code",
   "execution_count": 2,
   "metadata": {},
   "outputs": [],
   "source": [
    "from evm_cfg_builder.cfg import CFG\n",
    "import solcx\n",
    "import graphviz\n",
    "from collections import defaultdict\n",
    "import random, string\n",
    "import requests\n",
    "import json\n",
    "from collections import defaultdict\n",
    "import os\n",
    "import pyevmasm\n",
    "\n",
    "\n",
    "\n",
    "solcx.install_solc('0.4.24')\n",
    "solcx.set_solc_version('0.4.24')"
   ]
  },
  {
   "cell_type": "code",
   "execution_count": 3,
   "metadata": {},
   "outputs": [],
   "source": [
    "create_cfg = lambda x: CFG(x)"
   ]
  },
  {
   "cell_type": "code",
   "execution_count": 4,
   "metadata": {},
   "outputs": [],
   "source": [
    "def create_graph(cfg,selector=None): \n",
    "    graph = defaultdict(list)\n",
    "    destinations = []\n",
    "    if selector:\n",
    "        for f in cfg.functions:\n",
    "            if f.name == selector:\n",
    "                for basic_block in sorted(f.basic_blocks, key=lambda x:x.start.pc):        \n",
    "                    graph[basic_block] = sorted(basic_block.outgoing_basic_blocks(f.key), key=lambda x:x.start.pc)\n",
    "                    \n",
    "                    if len(basic_block.incoming_basic_blocks(f.key)) == 0:\n",
    "                        starting_block = basic_block\n",
    "                        \n",
    "                    if len(basic_block.outgoing_basic_blocks(f.key)) == 0:\n",
    "                        destinations.append(basic_block)\n",
    "    return graph, starting_block,destinations"
   ]
  },
  {
   "cell_type": "code",
   "execution_count": 5,
   "metadata": {},
   "outputs": [],
   "source": [
    "def find_all_paths(graph, start, end_blocks, visited=set()):\n",
    "    paths = []\n",
    "    if start in visited:\n",
    "        return paths  # Don't explore further if already visited\n",
    "\n",
    "    visited.add(start)\n",
    "\n",
    "    # Check if current block is an end block\n",
    "    if start in end_blocks:\n",
    "        paths.append([start])  # Add path if start is an end block\n",
    "\n",
    "    # Explore neighbor blocks\n",
    "    for neighbor in graph[start]:\n",
    "        new_paths = find_all_paths(graph, neighbor, end_blocks, visited.copy())\n",
    "        for path in new_paths:\n",
    "            # Prepend current block to each neighbor path\n",
    "            paths.append([start] + path)\n",
    "\n",
    "    # Remove current block from visited set for backtracking\n",
    "    visited.remove(start)\n",
    "    return paths"
   ]
  },
  {
   "cell_type": "code",
   "execution_count": 25,
   "metadata": {},
   "outputs": [
    {
     "ename": "SolcError",
     "evalue": "An error occurred during execution\n> command: `/Users/himanshuchuri/.solcx/solc-v0.4.24 /Users/himanshuchuri/Desktop/Solidity_Exp/uniswap/code-sample/goerli/0xe592427a0aece92de3edee1f18e0157c05861564/contracts/SwapRouter.sol /Users/himanshuchuri/Desktop/Solidity_Exp/uniswap/code-sample/goerli/0xe592427a0aece92de3edee1f18e0157c05861564/@uniswap/v3-core/contracts/interfaces/callback/IUniswapV3SwapCallback.sol /Users/himanshuchuri/Desktop/Solidity_Exp/uniswap/code-sample/goerli/0xe592427a0aece92de3edee1f18e0157c05861564/@uniswap/v3-core/contracts/interfaces/IUniswapV3Pool.sol /Users/himanshuchuri/Desktop/Solidity_Exp/uniswap/code-sample/goerli/0xe592427a0aece92de3edee1f18e0157c05861564/@uniswap/v3-core/contracts/libraries/SafeCast.sol /Users/himanshuchuri/Desktop/Solidity_Exp/uniswap/code-sample/goerli/0xe592427a0aece92de3edee1f18e0157c05861564/@uniswap/v3-core/contracts/libraries/TickMath.sol /Users/himanshuchuri/Desktop/Solidity_Exp/uniswap/code-sample/goerli/0xe592427a0aece92de3edee1f18e0157c05861564/@uniswap/v3-core/contracts/interfaces/IUniswapV3Pool.sol /Users/himanshuchuri/Desktop/Solidity_Exp/uniswap/code-sample/goerli/0xe592427a0aece92de3edee1f18e0157c05861564/@uniswap/v3-core/contracts/libraries/LowGasSafeMath.sol /Users/himanshuchuri/Desktop/Solidity_Exp/uniswap/code-sample/goerli/0xe592427a0aece92de3edee1f18e0157c05861564/@openzeppelin/contracts/drafts/IERC20Permit.sol /Users/himanshuchuri/Desktop/Solidity_Exp/uniswap/code-sample/goerli/0xe592427a0aece92de3edee1f18e0157c05861564/contracts/interfaces/ISwapRouter.sol /Users/himanshuchuri/Desktop/Solidity_Exp/uniswap/code-sample/goerli/0xe592427a0aece92de3edee1f18e0157c05861564/contracts/base/PeripheryImmutableState.sol /Users/himanshuchuri/Desktop/Solidity_Exp/uniswap/code-sample/goerli/0xe592427a0aece92de3edee1f18e0157c05861564/contracts/base/PeripheryValidation.sol /Users/himanshuchuri/Desktop/Solidity_Exp/uniswap/code-sample/goerli/0xe592427a0aece92de3edee1f18e0157c05861564/contracts/base/PeripheryPaymentsWithFee.sol /Users/himanshuchuri/Desktop/Solidity_Exp/uniswap/code-sample/goerli/0xe592427a0aece92de3edee1f18e0157c05861564/contracts/base/Multicall.sol /Users/himanshuchuri/Desktop/Solidity_Exp/uniswap/code-sample/goerli/0xe592427a0aece92de3edee1f18e0157c05861564/contracts/base/SelfPermit.sol /Users/himanshuchuri/Desktop/Solidity_Exp/uniswap/code-sample/goerli/0xe592427a0aece92de3edee1f18e0157c05861564/@openzeppelin/contracts/token/ERC20/ERC20.sol --combined-json abi,asm,ast,bin,bin-runtime,clone-bin,compact-format,devdoc,hashes,interface,metadata,opcodes,srcmap,srcmap-runtime,userdoc`\n> return code: `1`\n> stdout:\n\n> stderr:\n/Users/himanshuchuri/Desktop/Solidity_Exp/uniswap/code-sample/goerli/0xe592427a0aece92de3edee1f18e0157c05861564/@uniswap/v3-core/contracts/interfaces/IUniswapV3Pool.sol:3:1: Warning: Experimental features are turned on. Do not use experimental features on live deployments.\npragma experimental ABIEncoderV2;\n^-------------------------------^\n/Users/himanshuchuri/Desktop/Solidity_Exp/uniswap/code-sample/goerli/0xe592427a0aece92de3edee1f18e0157c05861564/contracts/interfaces/ISwapRouter.sol:3:1: Warning: Experimental features are turned on. Do not use experimental features on live deployments.\npragma experimental ABIEncoderV2;\n^-------------------------------^\n/Users/himanshuchuri/Desktop/Solidity_Exp/uniswap/code-sample/goerli/0xe592427a0aece92de3edee1f18e0157c05861564/contracts/interfaces/IMulticall.sol:3:1: Warning: Experimental features are turned on. Do not use experimental features on live deployments.\npragma experimental ABIEncoderV2;\n^-------------------------------^\n/Users/himanshuchuri/Desktop/Solidity_Exp/uniswap/code-sample/goerli/0xe592427a0aece92de3edee1f18e0157c05861564/contracts/base/Multicall.sol:3:1: Warning: Experimental features are turned on. Do not use experimental features on live deployments.\npragma experimental ABIEncoderV2;\n^-------------------------------^\n/Users/himanshuchuri/Desktop/Solidity_Exp/uniswap/code-sample/goerli/0xe592427a0aece92de3edee1f18e0157c05861564/contracts/SwapRouter.sol:72:40: Error: Member \"decode\" not found or not visible after argument-dependent lookup in abi\n        SwapCallbackData memory data = abi.decode(_data, (SwapCallbackData));\n                                       ^--------^",
     "output_type": "error",
     "traceback": [
      "\u001b[0;31m---------------------------------------------------------------------------\u001b[0m",
      "\u001b[0;31mSolcError\u001b[0m                                 Traceback (most recent call last)",
      "Cell \u001b[0;32mIn[25], line 19\u001b[0m\n\u001b[1;32m      1\u001b[0m remappings \u001b[38;5;241m=\u001b[39m [\n\u001b[1;32m      2\u001b[0m     \u001b[38;5;124m'\u001b[39m\u001b[38;5;124m/Users/himanshuchuri/Desktop/Solidity_Exp/uniswap/code-sample/goerli/0xe592427a0aece92de3edee1f18e0157c05861564/@uniswap/v3-core/contracts/interfaces/callback/IUniswapV3SwapCallback.sol\u001b[39m\u001b[38;5;124m'\u001b[39m,\n\u001b[1;32m      3\u001b[0m     \u001b[38;5;124m'\u001b[39m\u001b[38;5;124m/Users/himanshuchuri/Desktop/Solidity_Exp/uniswap/code-sample/goerli/0xe592427a0aece92de3edee1f18e0157c05861564/@uniswap/v3-core/contracts/interfaces/IUniswapV3Pool.sol\u001b[39m\u001b[38;5;124m'\u001b[39m,\n\u001b[0;32m   (...)\u001b[0m\n\u001b[1;32m     15\u001b[0m  \u001b[38;5;124m\"\u001b[39m\u001b[38;5;124m/Users/himanshuchuri/Desktop/Solidity_Exp/uniswap/code-sample/goerli/0xe592427a0aece92de3edee1f18e0157c05861564/@openzeppelin/contracts/token/ERC20/ERC20.sol\u001b[39m\u001b[38;5;124m\"\u001b[39m\n\u001b[1;32m     16\u001b[0m ]\n\u001b[1;32m     18\u001b[0m \u001b[38;5;66;03m# Compile Solidity files with specified remappings\u001b[39;00m\n\u001b[0;32m---> 19\u001b[0m compiled_sol \u001b[38;5;241m=\u001b[39m \u001b[43msolcx\u001b[49m\u001b[38;5;241;43m.\u001b[39;49m\u001b[43mcompile_files\u001b[49m\u001b[43m(\u001b[49m\u001b[43m[\u001b[49m\u001b[38;5;124;43m'\u001b[39;49m\u001b[38;5;124;43m/Users/himanshuchuri/Desktop/Solidity_Exp/uniswap/code-sample/goerli/0xe592427a0aece92de3edee1f18e0157c05861564/contracts/SwapRouter.sol\u001b[39;49m\u001b[38;5;124;43m'\u001b[39;49m\u001b[43m]\u001b[49m\u001b[43m,\u001b[49m\u001b[43m \u001b[49m\u001b[43mimport_remappings\u001b[49m\u001b[38;5;241;43m=\u001b[39;49m\u001b[43mremappings\u001b[49m\u001b[43m)\u001b[49m\n",
      "File \u001b[0;32m~/miniforge3/envs/mlp/lib/python3.8/site-packages/solcx/main.py:199\u001b[0m, in \u001b[0;36mcompile_files\u001b[0;34m(source_files, output_values, import_remappings, base_path, allow_paths, output_dir, overwrite, evm_version, revert_strings, metadata_hash, metadata_literal, optimize, optimize_runs, optimize_yul, no_optimize_yul, yul_optimizations, solc_binary, solc_version, allow_empty, **kwargs)\u001b[0m\n\u001b[1;32m    125\u001b[0m \u001b[38;5;28;01mdef\u001b[39;00m \u001b[38;5;21mcompile_files\u001b[39m(\n\u001b[1;32m    126\u001b[0m     source_files: Union[List, Path, \u001b[38;5;28mstr\u001b[39m],\n\u001b[1;32m    127\u001b[0m     output_values: Optional[List] \u001b[38;5;241m=\u001b[39m \u001b[38;5;28;01mNone\u001b[39;00m,\n\u001b[0;32m   (...)\u001b[0m\n\u001b[1;32m    145\u001b[0m     \u001b[38;5;241m*\u001b[39m\u001b[38;5;241m*\u001b[39mkwargs: Any,\n\u001b[1;32m    146\u001b[0m ) \u001b[38;5;241m-\u001b[39m\u001b[38;5;241m>\u001b[39m Dict:\n\u001b[1;32m    147\u001b[0m \u001b[38;5;250m    \u001b[39m\u001b[38;5;124;03m\"\"\"\u001b[39;00m\n\u001b[1;32m    148\u001b[0m \u001b[38;5;124;03m    Compile one or more Solidity source files.\u001b[39;00m\n\u001b[1;32m    149\u001b[0m \n\u001b[0;32m   (...)\u001b[0m\n\u001b[1;32m    197\u001b[0m \u001b[38;5;124;03m      Dict: Compiler output\u001b[39;00m\n\u001b[1;32m    198\u001b[0m \u001b[38;5;124;03m    \"\"\"\u001b[39;00m\n\u001b[0;32m--> 199\u001b[0m     \u001b[38;5;28;01mreturn\u001b[39;00m \u001b[43m_compile_combined_json\u001b[49m\u001b[43m(\u001b[49m\n\u001b[1;32m    200\u001b[0m \u001b[43m        \u001b[49m\u001b[43msolc_binary\u001b[49m\u001b[38;5;241;43m=\u001b[39;49m\u001b[43msolc_binary\u001b[49m\u001b[43m,\u001b[49m\n\u001b[1;32m    201\u001b[0m \u001b[43m        \u001b[49m\u001b[43msolc_version\u001b[49m\u001b[38;5;241;43m=\u001b[39;49m\u001b[43msolc_version\u001b[49m\u001b[43m,\u001b[49m\n\u001b[1;32m    202\u001b[0m \u001b[43m        \u001b[49m\u001b[43msource_files\u001b[49m\u001b[38;5;241;43m=\u001b[39;49m\u001b[43msource_files\u001b[49m\u001b[43m,\u001b[49m\n\u001b[1;32m    203\u001b[0m \u001b[43m        \u001b[49m\u001b[43moutput_values\u001b[49m\u001b[38;5;241;43m=\u001b[39;49m\u001b[43moutput_values\u001b[49m\u001b[43m,\u001b[49m\n\u001b[1;32m    204\u001b[0m \u001b[43m        \u001b[49m\u001b[43mimport_remappings\u001b[49m\u001b[38;5;241;43m=\u001b[39;49m\u001b[43mimport_remappings\u001b[49m\u001b[43m,\u001b[49m\n\u001b[1;32m    205\u001b[0m \u001b[43m        \u001b[49m\u001b[43mbase_path\u001b[49m\u001b[38;5;241;43m=\u001b[39;49m\u001b[43mbase_path\u001b[49m\u001b[43m,\u001b[49m\n\u001b[1;32m    206\u001b[0m \u001b[43m        \u001b[49m\u001b[43mallow_paths\u001b[49m\u001b[38;5;241;43m=\u001b[39;49m\u001b[43mallow_paths\u001b[49m\u001b[43m,\u001b[49m\n\u001b[1;32m    207\u001b[0m \u001b[43m        \u001b[49m\u001b[43moutput_dir\u001b[49m\u001b[38;5;241;43m=\u001b[39;49m\u001b[43moutput_dir\u001b[49m\u001b[43m,\u001b[49m\n\u001b[1;32m    208\u001b[0m \u001b[43m        \u001b[49m\u001b[43moverwrite\u001b[49m\u001b[38;5;241;43m=\u001b[39;49m\u001b[43moverwrite\u001b[49m\u001b[43m,\u001b[49m\n\u001b[1;32m    209\u001b[0m \u001b[43m        \u001b[49m\u001b[43mevm_version\u001b[49m\u001b[38;5;241;43m=\u001b[39;49m\u001b[43mevm_version\u001b[49m\u001b[43m,\u001b[49m\n\u001b[1;32m    210\u001b[0m \u001b[43m        \u001b[49m\u001b[43mrevert_strings\u001b[49m\u001b[38;5;241;43m=\u001b[39;49m\u001b[43mrevert_strings\u001b[49m\u001b[43m,\u001b[49m\n\u001b[1;32m    211\u001b[0m \u001b[43m        \u001b[49m\u001b[43mmetadata_hash\u001b[49m\u001b[38;5;241;43m=\u001b[39;49m\u001b[43mmetadata_hash\u001b[49m\u001b[43m,\u001b[49m\n\u001b[1;32m    212\u001b[0m \u001b[43m        \u001b[49m\u001b[43mmetadata_literal\u001b[49m\u001b[38;5;241;43m=\u001b[39;49m\u001b[43mmetadata_literal\u001b[49m\u001b[43m,\u001b[49m\n\u001b[1;32m    213\u001b[0m \u001b[43m        \u001b[49m\u001b[43moptimize\u001b[49m\u001b[38;5;241;43m=\u001b[39;49m\u001b[43moptimize\u001b[49m\u001b[43m,\u001b[49m\n\u001b[1;32m    214\u001b[0m \u001b[43m        \u001b[49m\u001b[43moptimize_runs\u001b[49m\u001b[38;5;241;43m=\u001b[39;49m\u001b[43moptimize_runs\u001b[49m\u001b[43m,\u001b[49m\n\u001b[1;32m    215\u001b[0m \u001b[43m        \u001b[49m\u001b[43moptimize_yul\u001b[49m\u001b[38;5;241;43m=\u001b[39;49m\u001b[43moptimize_yul\u001b[49m\u001b[43m,\u001b[49m\n\u001b[1;32m    216\u001b[0m \u001b[43m        \u001b[49m\u001b[43mno_optimize_yul\u001b[49m\u001b[38;5;241;43m=\u001b[39;49m\u001b[43mno_optimize_yul\u001b[49m\u001b[43m,\u001b[49m\n\u001b[1;32m    217\u001b[0m \u001b[43m        \u001b[49m\u001b[43myul_optimizations\u001b[49m\u001b[38;5;241;43m=\u001b[39;49m\u001b[43myul_optimizations\u001b[49m\u001b[43m,\u001b[49m\n\u001b[1;32m    218\u001b[0m \u001b[43m        \u001b[49m\u001b[43mallow_empty\u001b[49m\u001b[38;5;241;43m=\u001b[39;49m\u001b[43mallow_empty\u001b[49m\u001b[43m,\u001b[49m\n\u001b[1;32m    219\u001b[0m \u001b[43m        \u001b[49m\u001b[38;5;241;43m*\u001b[39;49m\u001b[38;5;241;43m*\u001b[39;49m\u001b[43mkwargs\u001b[49m\u001b[43m,\u001b[49m\n\u001b[1;32m    220\u001b[0m \u001b[43m    \u001b[49m\u001b[43m)\u001b[49m\n",
      "File \u001b[0;32m~/miniforge3/envs/mlp/lib/python3.8/site-packages/solcx/main.py:274\u001b[0m, in \u001b[0;36m_compile_combined_json\u001b[0;34m(output_values, solc_binary, solc_version, output_dir, overwrite, allow_empty, **kwargs)\u001b[0m\n\u001b[1;32m    269\u001b[0m         target_path \u001b[38;5;241m=\u001b[39m output_dir\u001b[38;5;241m.\u001b[39mjoinpath(\u001b[38;5;124m\"\u001b[39m\u001b[38;5;124mcombined.json\u001b[39m\u001b[38;5;124m\"\u001b[39m)\n\u001b[1;32m    270\u001b[0m         \u001b[38;5;28;01mraise\u001b[39;00m \u001b[38;5;167;01mFileExistsError\u001b[39;00m(\n\u001b[1;32m    271\u001b[0m             \u001b[38;5;124mf\u001b[39m\u001b[38;5;124m\"\u001b[39m\u001b[38;5;124mTarget output file \u001b[39m\u001b[38;5;132;01m{\u001b[39;00mtarget_path\u001b[38;5;132;01m}\u001b[39;00m\u001b[38;5;124m already exists - use overwrite=True to overwrite\u001b[39m\u001b[38;5;124m\"\u001b[39m\n\u001b[1;32m    272\u001b[0m         )\n\u001b[0;32m--> 274\u001b[0m stdoutdata, stderrdata, command, proc \u001b[38;5;241m=\u001b[39m \u001b[43mwrapper\u001b[49m\u001b[38;5;241;43m.\u001b[39;49m\u001b[43msolc_wrapper\u001b[49m\u001b[43m(\u001b[49m\n\u001b[1;32m    275\u001b[0m \u001b[43m    \u001b[49m\u001b[43msolc_binary\u001b[49m\u001b[38;5;241;43m=\u001b[39;49m\u001b[43msolc_binary\u001b[49m\u001b[43m,\u001b[49m\n\u001b[1;32m    276\u001b[0m \u001b[43m    \u001b[49m\u001b[43mcombined_json\u001b[49m\u001b[38;5;241;43m=\u001b[39;49m\u001b[43mcombined_json\u001b[49m\u001b[43m,\u001b[49m\n\u001b[1;32m    277\u001b[0m \u001b[43m    \u001b[49m\u001b[43moutput_dir\u001b[49m\u001b[38;5;241;43m=\u001b[39;49m\u001b[43moutput_dir\u001b[49m\u001b[43m,\u001b[49m\n\u001b[1;32m    278\u001b[0m \u001b[43m    \u001b[49m\u001b[43moverwrite\u001b[49m\u001b[38;5;241;43m=\u001b[39;49m\u001b[43moverwrite\u001b[49m\u001b[43m,\u001b[49m\n\u001b[1;32m    279\u001b[0m \u001b[43m    \u001b[49m\u001b[38;5;241;43m*\u001b[39;49m\u001b[38;5;241;43m*\u001b[39;49m\u001b[43mkwargs\u001b[49m\u001b[43m,\u001b[49m\n\u001b[1;32m    280\u001b[0m \u001b[43m\u001b[49m\u001b[43m)\u001b[49m\n\u001b[1;32m    282\u001b[0m \u001b[38;5;28;01mif\u001b[39;00m output_dir:\n\u001b[1;32m    283\u001b[0m     output_path \u001b[38;5;241m=\u001b[39m Path(output_dir)\u001b[38;5;241m.\u001b[39mjoinpath(\u001b[38;5;124m\"\u001b[39m\u001b[38;5;124mcombined.json\u001b[39m\u001b[38;5;124m\"\u001b[39m)\n",
      "File \u001b[0;32m~/miniforge3/envs/mlp/lib/python3.8/site-packages/solcx/wrapper.py:157\u001b[0m, in \u001b[0;36msolc_wrapper\u001b[0;34m(solc_binary, stdin, source_files, import_remappings, success_return_code, **kwargs)\u001b[0m\n\u001b[1;32m    151\u001b[0m         flag \u001b[38;5;241m=\u001b[39m flag\u001b[38;5;241m.\u001b[39msplit(\u001b[38;5;124m\"\u001b[39m\u001b[38;5;124m \u001b[39m\u001b[38;5;124m\"\u001b[39m)[\u001b[38;5;241m-\u001b[39m\u001b[38;5;241m1\u001b[39m]\n\u001b[1;32m    152\u001b[0m         \u001b[38;5;28;01mraise\u001b[39;00m UnknownValue(\n\u001b[1;32m    153\u001b[0m             \u001b[38;5;124mf\u001b[39m\u001b[38;5;124m\"\u001b[39m\u001b[38;5;124msolc \u001b[39m\u001b[38;5;132;01m{\u001b[39;00msolc_version\u001b[38;5;241m.\u001b[39mbase_version\u001b[38;5;132;01m}\u001b[39;00m\u001b[38;5;124m does not accept \u001b[39m\u001b[38;5;124m\"\u001b[39m\n\u001b[1;32m    154\u001b[0m             \u001b[38;5;124mf\u001b[39m\u001b[38;5;124m\"\u001b[39m\u001b[38;5;124m'\u001b[39m\u001b[38;5;132;01m{\u001b[39;00moption\u001b[38;5;132;01m}\u001b[39;00m\u001b[38;5;124m'\u001b[39m\u001b[38;5;124m as an option for the \u001b[39m\u001b[38;5;124m'\u001b[39m\u001b[38;5;132;01m{\u001b[39;00mflag\u001b[38;5;132;01m}\u001b[39;00m\u001b[38;5;124m'\u001b[39m\u001b[38;5;124m flag\u001b[39m\u001b[38;5;124m\"\u001b[39m\n\u001b[1;32m    155\u001b[0m         )\n\u001b[0;32m--> 157\u001b[0m     \u001b[38;5;28;01mraise\u001b[39;00m SolcError(\n\u001b[1;32m    158\u001b[0m         command\u001b[38;5;241m=\u001b[39mcommand,\n\u001b[1;32m    159\u001b[0m         return_code\u001b[38;5;241m=\u001b[39mproc\u001b[38;5;241m.\u001b[39mreturncode,\n\u001b[1;32m    160\u001b[0m         stdin_data\u001b[38;5;241m=\u001b[39mstdin,\n\u001b[1;32m    161\u001b[0m         stdout_data\u001b[38;5;241m=\u001b[39mstdoutdata,\n\u001b[1;32m    162\u001b[0m         stderr_data\u001b[38;5;241m=\u001b[39mstderrdata,\n\u001b[1;32m    163\u001b[0m     )\n\u001b[1;32m    165\u001b[0m \u001b[38;5;28;01mreturn\u001b[39;00m stdoutdata, stderrdata, command, proc\n",
      "\u001b[0;31mSolcError\u001b[0m: An error occurred during execution\n> command: `/Users/himanshuchuri/.solcx/solc-v0.4.24 /Users/himanshuchuri/Desktop/Solidity_Exp/uniswap/code-sample/goerli/0xe592427a0aece92de3edee1f18e0157c05861564/contracts/SwapRouter.sol /Users/himanshuchuri/Desktop/Solidity_Exp/uniswap/code-sample/goerli/0xe592427a0aece92de3edee1f18e0157c05861564/@uniswap/v3-core/contracts/interfaces/callback/IUniswapV3SwapCallback.sol /Users/himanshuchuri/Desktop/Solidity_Exp/uniswap/code-sample/goerli/0xe592427a0aece92de3edee1f18e0157c05861564/@uniswap/v3-core/contracts/interfaces/IUniswapV3Pool.sol /Users/himanshuchuri/Desktop/Solidity_Exp/uniswap/code-sample/goerli/0xe592427a0aece92de3edee1f18e0157c05861564/@uniswap/v3-core/contracts/libraries/SafeCast.sol /Users/himanshuchuri/Desktop/Solidity_Exp/uniswap/code-sample/goerli/0xe592427a0aece92de3edee1f18e0157c05861564/@uniswap/v3-core/contracts/libraries/TickMath.sol /Users/himanshuchuri/Desktop/Solidity_Exp/uniswap/code-sample/goerli/0xe592427a0aece92de3edee1f18e0157c05861564/@uniswap/v3-core/contracts/interfaces/IUniswapV3Pool.sol /Users/himanshuchuri/Desktop/Solidity_Exp/uniswap/code-sample/goerli/0xe592427a0aece92de3edee1f18e0157c05861564/@uniswap/v3-core/contracts/libraries/LowGasSafeMath.sol /Users/himanshuchuri/Desktop/Solidity_Exp/uniswap/code-sample/goerli/0xe592427a0aece92de3edee1f18e0157c05861564/@openzeppelin/contracts/drafts/IERC20Permit.sol /Users/himanshuchuri/Desktop/Solidity_Exp/uniswap/code-sample/goerli/0xe592427a0aece92de3edee1f18e0157c05861564/contracts/interfaces/ISwapRouter.sol /Users/himanshuchuri/Desktop/Solidity_Exp/uniswap/code-sample/goerli/0xe592427a0aece92de3edee1f18e0157c05861564/contracts/base/PeripheryImmutableState.sol /Users/himanshuchuri/Desktop/Solidity_Exp/uniswap/code-sample/goerli/0xe592427a0aece92de3edee1f18e0157c05861564/contracts/base/PeripheryValidation.sol /Users/himanshuchuri/Desktop/Solidity_Exp/uniswap/code-sample/goerli/0xe592427a0aece92de3edee1f18e0157c05861564/contracts/base/PeripheryPaymentsWithFee.sol /Users/himanshuchuri/Desktop/Solidity_Exp/uniswap/code-sample/goerli/0xe592427a0aece92de3edee1f18e0157c05861564/contracts/base/Multicall.sol /Users/himanshuchuri/Desktop/Solidity_Exp/uniswap/code-sample/goerli/0xe592427a0aece92de3edee1f18e0157c05861564/contracts/base/SelfPermit.sol /Users/himanshuchuri/Desktop/Solidity_Exp/uniswap/code-sample/goerli/0xe592427a0aece92de3edee1f18e0157c05861564/@openzeppelin/contracts/token/ERC20/ERC20.sol --combined-json abi,asm,ast,bin,bin-runtime,clone-bin,compact-format,devdoc,hashes,interface,metadata,opcodes,srcmap,srcmap-runtime,userdoc`\n> return code: `1`\n> stdout:\n\n> stderr:\n/Users/himanshuchuri/Desktop/Solidity_Exp/uniswap/code-sample/goerli/0xe592427a0aece92de3edee1f18e0157c05861564/@uniswap/v3-core/contracts/interfaces/IUniswapV3Pool.sol:3:1: Warning: Experimental features are turned on. Do not use experimental features on live deployments.\npragma experimental ABIEncoderV2;\n^-------------------------------^\n/Users/himanshuchuri/Desktop/Solidity_Exp/uniswap/code-sample/goerli/0xe592427a0aece92de3edee1f18e0157c05861564/contracts/interfaces/ISwapRouter.sol:3:1: Warning: Experimental features are turned on. Do not use experimental features on live deployments.\npragma experimental ABIEncoderV2;\n^-------------------------------^\n/Users/himanshuchuri/Desktop/Solidity_Exp/uniswap/code-sample/goerli/0xe592427a0aece92de3edee1f18e0157c05861564/contracts/interfaces/IMulticall.sol:3:1: Warning: Experimental features are turned on. Do not use experimental features on live deployments.\npragma experimental ABIEncoderV2;\n^-------------------------------^\n/Users/himanshuchuri/Desktop/Solidity_Exp/uniswap/code-sample/goerli/0xe592427a0aece92de3edee1f18e0157c05861564/contracts/base/Multicall.sol:3:1: Warning: Experimental features are turned on. Do not use experimental features on live deployments.\npragma experimental ABIEncoderV2;\n^-------------------------------^\n/Users/himanshuchuri/Desktop/Solidity_Exp/uniswap/code-sample/goerli/0xe592427a0aece92de3edee1f18e0157c05861564/contracts/SwapRouter.sol:72:40: Error: Member \"decode\" not found or not visible after argument-dependent lookup in abi\n        SwapCallbackData memory data = abi.decode(_data, (SwapCallbackData));\n                                       ^--------^"
     ]
    }
   ],
   "source": [
    "remappings = [\n",
    "    '/Users/himanshuchuri/Desktop/Solidity_Exp/uniswap/code-sample/goerli/0xe592427a0aece92de3edee1f18e0157c05861564/@uniswap/v3-core/contracts/interfaces/callback/IUniswapV3SwapCallback.sol',\n",
    "    '/Users/himanshuchuri/Desktop/Solidity_Exp/uniswap/code-sample/goerli/0xe592427a0aece92de3edee1f18e0157c05861564/@uniswap/v3-core/contracts/interfaces/IUniswapV3Pool.sol',\n",
    "    '/Users/himanshuchuri/Desktop/Solidity_Exp/uniswap/code-sample/goerli/0xe592427a0aece92de3edee1f18e0157c05861564/@uniswap/v3-core/contracts/libraries/SafeCast.sol',\n",
    "    '/Users/himanshuchuri/Desktop/Solidity_Exp/uniswap/code-sample/goerli/0xe592427a0aece92de3edee1f18e0157c05861564/@uniswap/v3-core/contracts/libraries/TickMath.sol',\n",
    "    '/Users/himanshuchuri/Desktop/Solidity_Exp/uniswap/code-sample/goerli/0xe592427a0aece92de3edee1f18e0157c05861564/@uniswap/v3-core/contracts/interfaces/IUniswapV3Pool.sol',\n",
    "    '/Users/himanshuchuri/Desktop/Solidity_Exp/uniswap/code-sample/goerli/0xe592427a0aece92de3edee1f18e0157c05861564/@uniswap/v3-core/contracts/libraries/LowGasSafeMath.sol',\n",
    "    '/Users/himanshuchuri/Desktop/Solidity_Exp/uniswap/code-sample/goerli/0xe592427a0aece92de3edee1f18e0157c05861564/@openzeppelin/contracts/drafts/IERC20Permit.sol',\n",
    "    \"/Users/himanshuchuri/Desktop/Solidity_Exp/uniswap/code-sample/goerli/0xe592427a0aece92de3edee1f18e0157c05861564/contracts/interfaces/ISwapRouter.sol\",\n",
    " \"/Users/himanshuchuri/Desktop/Solidity_Exp/uniswap/code-sample/goerli/0xe592427a0aece92de3edee1f18e0157c05861564/contracts/base/PeripheryImmutableState.sol\",\n",
    " \"/Users/himanshuchuri/Desktop/Solidity_Exp/uniswap/code-sample/goerli/0xe592427a0aece92de3edee1f18e0157c05861564/contracts/base/PeripheryValidation.sol\",\n",
    " \"/Users/himanshuchuri/Desktop/Solidity_Exp/uniswap/code-sample/goerli/0xe592427a0aece92de3edee1f18e0157c05861564/contracts/base/PeripheryPaymentsWithFee.sol\",\n",
    " \"/Users/himanshuchuri/Desktop/Solidity_Exp/uniswap/code-sample/goerli/0xe592427a0aece92de3edee1f18e0157c05861564/contracts/base/Multicall.sol\",\n",
    " \"/Users/himanshuchuri/Desktop/Solidity_Exp/uniswap/code-sample/goerli/0xe592427a0aece92de3edee1f18e0157c05861564/contracts/base/SelfPermit.sol\",\n",
    " \"/Users/himanshuchuri/Desktop/Solidity_Exp/uniswap/code-sample/goerli/0xe592427a0aece92de3edee1f18e0157c05861564/@openzeppelin/contracts/token/ERC20/ERC20.sol\"\n",
    "]\n",
    "\n",
    "# Compile Solidity files with specified remappings\n",
    "compiled_sol = solcx.compile_files(['/Users/himanshuchuri/Desktop/Solidity_Exp/uniswap/code-sample/goerli/0xe592427a0aece92de3edee1f18e0157c05861564/contracts/SwapRouter.sol'], import_remappings=remappings)"
   ]
  },
  {
   "cell_type": "markdown",
   "metadata": {},
   "source": [
    "# write a simple interfece.\n",
    "\n",
    "# write another contrct to IERC20, manuall simplify it.(ingnore some code)"
   ]
  },
  {
   "cell_type": "code",
   "execution_count": 8,
   "metadata": {},
   "outputs": [
    {
     "ename": "NameError",
     "evalue": "name 'compiled_sol' is not defined",
     "output_type": "error",
     "traceback": [
      "\u001b[0;31m---------------------------------------------------------------------------\u001b[0m",
      "\u001b[0;31mNameError\u001b[0m                                 Traceback (most recent call last)",
      "Cell \u001b[0;32mIn[8], line 1\u001b[0m\n\u001b[0;32m----> 1\u001b[0m cfg \u001b[38;5;241m=\u001b[39m create_cfg(\u001b[43mcompiled_sol\u001b[49m[\u001b[38;5;124m'\u001b[39m\u001b[38;5;124m/Users/himanshuchuri/Desktop/Solidity_Exp/uniswap/code-sample/goerli/0xe592427a0aece92de3edee1f18e0157c05861564/contracts/SwapRouter.sol:SwapRouter\u001b[39m\u001b[38;5;124m'\u001b[39m][\u001b[38;5;124m'\u001b[39m\u001b[38;5;124mbin-runtime\u001b[39m\u001b[38;5;124m'\u001b[39m])\n\u001b[1;32m      2\u001b[0m cfg\u001b[38;5;241m.\u001b[39moutput_to_dot(\u001b[38;5;124m\"\u001b[39m\u001b[38;5;124muniswap_org_\u001b[39m\u001b[38;5;124m\"\u001b[39m)\n\u001b[1;32m      3\u001b[0m s \u001b[38;5;241m=\u001b[39m graphviz\u001b[38;5;241m.\u001b[39mSource\u001b[38;5;241m.\u001b[39mfrom_file(\u001b[38;5;124m\"\u001b[39m\u001b[38;5;124muniswap_org_FULL_GRAPH.dot\u001b[39m\u001b[38;5;124m\"\u001b[39m)\n",
      "\u001b[0;31mNameError\u001b[0m: name 'compiled_sol' is not defined"
     ]
    }
   ],
   "source": [
    "cfg = create_cfg(compiled_sol['/Users/himanshuchuri/Desktop/Solidity_Exp/uniswap/code-sample/goerli/0xe592427a0aece92de3edee1f18e0157c05861564/contracts/SwapRouter.sol:SwapRouter']['bin-runtime'])\n",
    "cfg.output_to_dot(\"uniswap_org_\")\n",
    "s = graphviz.Source.from_file(\"uniswap_org_FULL_GRAPH.dot\")\n",
    "s.render(\"uniswap\")"
   ]
  },
  {
   "cell_type": "code",
   "execution_count": 46,
   "metadata": {},
   "outputs": [],
   "source": [
    "graph, starting_block,destinations = create_graph(cfg,'0x414bf389')\n"
   ]
  },
  {
   "cell_type": "code",
   "execution_count": 47,
   "metadata": {},
   "outputs": [
    {
     "name": "stdout",
     "output_type": "stream",
     "text": [
      "{<cfg BasicBlock@1d9-1ed>: [<cfg BasicBlock@3201-320f>], <cfg BasicBlock@2e0f-2e1d>: [<cfg BasicBlock@2e1e-2e21>, <cfg BasicBlock@2e22-2e2a>], <cfg BasicBlock@2e1e-2e21>: [], <cfg BasicBlock@2e22-2e2a>: [], <cfg BasicBlock@3201-320f>: [<cfg BasicBlock@3210-3213>, <cfg BasicBlock@3214-3221>], <cfg BasicBlock@3210-3213>: [], <cfg BasicBlock@3214-3221>: [<cfg BasicBlock@2e0f-2e1d>]} \n",
      " <cfg BasicBlock@1d9-1ed>\n"
     ]
    }
   ],
   "source": [
    "print(dict(graph),'\\n',starting_block)"
   ]
  },
  {
   "cell_type": "code",
   "execution_count": 48,
   "metadata": {},
   "outputs": [
    {
     "data": {
      "text/plain": [
       "[[<cfg BasicBlock@1d9-1ed>,\n",
       "  <cfg BasicBlock@3201-320f>,\n",
       "  <cfg BasicBlock@3210-3213>],\n",
       " [<cfg BasicBlock@1d9-1ed>,\n",
       "  <cfg BasicBlock@3201-320f>,\n",
       "  <cfg BasicBlock@3214-3221>,\n",
       "  <cfg BasicBlock@2e0f-2e1d>,\n",
       "  <cfg BasicBlock@2e1e-2e21>],\n",
       " [<cfg BasicBlock@1d9-1ed>,\n",
       "  <cfg BasicBlock@3201-320f>,\n",
       "  <cfg BasicBlock@3214-3221>,\n",
       "  <cfg BasicBlock@2e0f-2e1d>,\n",
       "  <cfg BasicBlock@2e22-2e2a>]]"
      ]
     },
     "execution_count": 48,
     "metadata": {},
     "output_type": "execute_result"
    }
   ],
   "source": [
    "find_all_paths(graph, starting_block, destinations)"
   ]
  },
  {
   "cell_type": "code",
   "execution_count": null,
   "metadata": {},
   "outputs": [],
   "source": []
  }
 ],
 "metadata": {
  "kernelspec": {
   "display_name": "mlp",
   "language": "python",
   "name": "python3"
  },
  "language_info": {
   "codemirror_mode": {
    "name": "ipython",
    "version": 3
   },
   "file_extension": ".py",
   "mimetype": "text/x-python",
   "name": "python",
   "nbconvert_exporter": "python",
   "pygments_lexer": "ipython3",
   "version": "3.8.18"
  }
 },
 "nbformat": 4,
 "nbformat_minor": 2
}
